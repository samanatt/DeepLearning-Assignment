{
  "nbformat": 4,
  "nbformat_minor": 0,
  "metadata": {
    "colab": {
      "provenance": [],
      "gpuType": "T4",
      "authorship_tag": "ABX9TyOQTVlPGGdDXYpl8ayMNbw1",
      "include_colab_link": true
    },
    "kernelspec": {
      "name": "python3",
      "display_name": "Python 3"
    },
    "language_info": {
      "name": "python"
    },
    "accelerator": "GPU"
  },
  "cells": [
    {
      "cell_type": "markdown",
      "metadata": {
        "id": "view-in-github",
        "colab_type": "text"
      },
      "source": [
        "<a href=\"https://colab.research.google.com/github/azii22000/DeepLearning-01/blob/main/LRFinder_Hoda.ipynb\" target=\"_parent\"><img src=\"https://colab.research.google.com/assets/colab-badge.svg\" alt=\"Open In Colab\"/></a>"
      ]
    },
    {
      "cell_type": "code",
      "execution_count": null,
      "metadata": {
        "colab": {
          "base_uri": "https://localhost:8080/"
        },
        "id": "X6tgTXQjV3xv",
        "outputId": "5685bfb1-8c85-4f3b-9023-d43553e8ec6c"
      },
      "outputs": [
        {
          "output_type": "stream",
          "name": "stdout",
          "text": [
            "--2023-11-26 08:49:41--  https://github.com/Alireza-Akhavan/tf2-tutorial/raw/master/callbacks/learningratefinder.py\n",
            "Resolving github.com (github.com)... 140.82.113.3\n",
            "Connecting to github.com (github.com)|140.82.113.3|:443... connected.\n",
            "HTTP request sent, awaiting response... 302 Found\n",
            "Location: https://raw.githubusercontent.com/Alireza-Akhavan/tf2-tutorial/master/callbacks/learningratefinder.py [following]\n",
            "--2023-11-26 08:49:41--  https://raw.githubusercontent.com/Alireza-Akhavan/tf2-tutorial/master/callbacks/learningratefinder.py\n",
            "Resolving raw.githubusercontent.com (raw.githubusercontent.com)... 185.199.108.133, 185.199.109.133, 185.199.110.133, ...\n",
            "Connecting to raw.githubusercontent.com (raw.githubusercontent.com)|185.199.108.133|:443... connected.\n",
            "HTTP request sent, awaiting response... 200 OK\n",
            "Length: 5439 (5.3K) [text/plain]\n",
            "Saving to: ‘learningratefinder.py.1’\n",
            "\n",
            "learningratefinder. 100%[===================>]   5.31K  --.-KB/s    in 0s      \n",
            "\n",
            "2023-11-26 08:49:41 (57.2 MB/s) - ‘learningratefinder.py.1’ saved [5439/5439]\n",
            "\n",
            "--2023-11-26 08:49:41--  https://github.com/azii22000/deeplearning-tensorflow2-notebooks/raw/master/dataset.py\n",
            "Resolving github.com (github.com)... 140.82.112.3\n",
            "Connecting to github.com (github.com)|140.82.112.3|:443... connected.\n",
            "HTTP request sent, awaiting response... 302 Found\n",
            "Location: https://raw.githubusercontent.com/azii22000/deeplearning-tensorflow2-notebooks/master/dataset.py [following]\n",
            "--2023-11-26 08:49:42--  https://raw.githubusercontent.com/azii22000/deeplearning-tensorflow2-notebooks/master/dataset.py\n",
            "Resolving raw.githubusercontent.com (raw.githubusercontent.com)... 185.199.108.133, 185.199.109.133, 185.199.110.133, ...\n",
            "Connecting to raw.githubusercontent.com (raw.githubusercontent.com)|185.199.108.133|:443... connected.\n",
            "HTTP request sent, awaiting response... 200 OK\n",
            "Length: 917 [text/plain]\n",
            "Saving to: ‘dataset.py.1’\n",
            "\n",
            "dataset.py.1        100%[===================>]     917  --.-KB/s    in 0s      \n",
            "\n",
            "2023-11-26 08:49:42 (37.1 MB/s) - ‘dataset.py.1’ saved [917/917]\n",
            "\n",
            "--2023-11-26 08:49:42--  https://github.com/azii22000/deeplearning-tensorflow2-notebooks/raw/master/dataset/Data_hoda_full.mat\n",
            "Resolving github.com (github.com)... 140.82.114.3\n",
            "Connecting to github.com (github.com)|140.82.114.3|:443... connected.\n",
            "HTTP request sent, awaiting response... 302 Found\n",
            "Location: https://raw.githubusercontent.com/azii22000/deeplearning-tensorflow2-notebooks/master/dataset/Data_hoda_full.mat [following]\n",
            "--2023-11-26 08:49:42--  https://raw.githubusercontent.com/azii22000/deeplearning-tensorflow2-notebooks/master/dataset/Data_hoda_full.mat\n",
            "Resolving raw.githubusercontent.com (raw.githubusercontent.com)... 185.199.108.133, 185.199.109.133, 185.199.110.133, ...\n",
            "Connecting to raw.githubusercontent.com (raw.githubusercontent.com)|185.199.108.133|:443... connected.\n",
            "HTTP request sent, awaiting response... 200 OK\n",
            "Length: 3989009 (3.8M) [application/octet-stream]\n",
            "Saving to: ‘dataset/Data_hoda_full.mat.1’\n",
            "\n",
            "Data_hoda_full.mat. 100%[===================>]   3.80M  --.-KB/s    in 0.09s   \n",
            "\n",
            "2023-11-26 08:49:43 (40.5 MB/s) - ‘dataset/Data_hoda_full.mat.1’ saved [3989009/3989009]\n",
            "\n"
          ]
        }
      ],
      "source": [
        "!wget https://github.com/Alireza-Akhavan/tf2-tutorial/raw/master/callbacks/learningratefinder.py\n",
        "!wget https://github.com/azii22000/deeplearning-tensorflow2-notebooks/raw/master/dataset.py\n",
        "!wget https://github.com/azii22000/deeplearning-tensorflow2-notebooks/raw/master/dataset/Data_hoda_full.mat -P dataset"
      ]
    },
    {
      "cell_type": "code",
      "source": [
        "from learningratefinder import LearningRateFinder"
      ],
      "metadata": {
        "id": "xnDIc3u10lJ0"
      },
      "execution_count": 56,
      "outputs": []
    },
    {
      "cell_type": "code",
      "source": [
        "import tensorflow as tf\n",
        "from tensorflow.keras.callbacks import TensorBoard\n",
        "from keras.models import Sequential\n",
        "from keras.layers import Dense\n",
        "\n",
        "\n",
        "import os\n",
        "import datetime\n",
        "import numpy as np\n",
        "import matplotlib.pyplot as plt\n",
        "%matplotlib inline\n",
        "\n",
        "from dataset import load_hoda"
      ],
      "metadata": {
        "id": "fzT0LM2IWtSY"
      },
      "execution_count": 57,
      "outputs": []
    },
    {
      "cell_type": "code",
      "source": [
        "x_train_original, y_train_original, x_test_original, y_test_original = load_hoda()"
      ],
      "metadata": {
        "id": "kh0CqzqvWxDL"
      },
      "execution_count": 58,
      "outputs": []
    },
    {
      "cell_type": "code",
      "source": [
        "# Preprocess input data for Keras.\n",
        "y_train = keras.utils.to_categorical(y_train_original, num_classes=10)\n",
        "y_test = keras.utils.to_categorical(y_test_original, num_classes=10)"
      ],
      "metadata": {
        "id": "Aia-F28VWx5s"
      },
      "execution_count": 59,
      "outputs": []
    },
    {
      "cell_type": "code",
      "source": [
        "x_train = x_train_original.astype('float32')\n",
        "x_test = x_test_original.astype('float32')\n",
        "x_train /= 255\n",
        "x_test /= 255"
      ],
      "metadata": {
        "id": "n53gVMMVW11l"
      },
      "execution_count": 60,
      "outputs": []
    },
    {
      "cell_type": "code",
      "source": [
        "x_train = x_train_original.reshape(1000,5,5)\n",
        "x_test  = x_test_original.reshape(200,5,5)\n",
        "y_train = y_train_original.reshape(1000,)\n",
        "y_test  = y_test_original.reshape(200,)"
      ],
      "metadata": {
        "id": "fOqj8hnB7mnE"
      },
      "execution_count": 61,
      "outputs": []
    },
    {
      "cell_type": "code",
      "source": [
        "def create_model():\n",
        "    return tf.keras.models.Sequential([\n",
        "        tf.keras.layers.Flatten(input_shape=(5, 5)),\n",
        "        tf.keras.layers.Dense(512, activation='relu'),\n",
        "        tf.keras.layers.Dropout(0.2),\n",
        "        tf.keras.layers.Dense(10, activation='softmax')\n",
        "    ])"
      ],
      "metadata": {
        "id": "Ed9434T2W4t-"
      },
      "execution_count": 62,
      "outputs": []
    },
    {
      "cell_type": "code",
      "source": [
        "MIN_LR = 1e-5\n",
        "\n",
        "model = create_model()\n",
        "opt   = keras.optimizers.SGD(lr=MIN_LR, momentum=0.9)\n",
        "\n",
        "model.compile(optimizer=opt,\n",
        "              loss='sparse_categorical_crossentropy',\n",
        "              metrics=['accuracy'])\n"
      ],
      "metadata": {
        "colab": {
          "base_uri": "https://localhost:8080/"
        },
        "id": "Uvr0RqHkYnV_",
        "outputId": "7b4322f9-cbc6-45f3-9f3c-d214d2b6551b"
      },
      "execution_count": 63,
      "outputs": [
        {
          "output_type": "stream",
          "name": "stderr",
          "text": [
            "WARNING:absl:`lr` is deprecated in Keras optimizer, please use `learning_rate` or use the legacy optimizer, e.g.,tf.keras.optimizers.legacy.SGD.\n"
          ]
        }
      ]
    },
    {
      "cell_type": "code",
      "source": [
        "# initialize the learning rate finder and then train with learning\n",
        "# rates ranging from 1e-10 to 1e+1\n",
        "lrf = LearningRateFinder(model)\n",
        "lrf.find((x_train, y_train),1e-10, 1e+1)\n",
        "# plot the loss for the various learning rates and save the\n",
        "# resulting plot to disk\n",
        "lrf.plot_loss()"
      ],
      "metadata": {
        "colab": {
          "base_uri": "https://localhost:8080/",
          "height": 1000
        },
        "id": "o40-s_aZZSmE",
        "outputId": "f2fe0ce4-2025-4461-d05f-609377510d4a"
      },
      "execution_count": 64,
      "outputs": [
        {
          "output_type": "stream",
          "name": "stdout",
          "text": [
            "Epoch 1/64\n",
            "32/32 [==============================] - 1s 4ms/step - loss: 85.5667 - accuracy: 0.1680\n",
            "Epoch 2/64\n",
            "32/32 [==============================] - 0s 4ms/step - loss: 84.2928 - accuracy: 0.1590\n",
            "Epoch 3/64\n",
            "32/32 [==============================] - 0s 4ms/step - loss: 84.0131 - accuracy: 0.1630\n",
            "Epoch 4/64\n",
            "32/32 [==============================] - 0s 4ms/step - loss: 84.2846 - accuracy: 0.1640\n",
            "Epoch 5/64\n",
            "32/32 [==============================] - 0s 4ms/step - loss: 84.5512 - accuracy: 0.1750\n",
            "Epoch 6/64\n",
            "32/32 [==============================] - 0s 4ms/step - loss: 85.1142 - accuracy: 0.1810\n",
            "Epoch 7/64\n",
            "32/32 [==============================] - 0s 4ms/step - loss: 82.5903 - accuracy: 0.1630\n",
            "Epoch 8/64\n",
            "32/32 [==============================] - 0s 4ms/step - loss: 84.0664 - accuracy: 0.1730\n",
            "Epoch 9/64\n",
            "32/32 [==============================] - 0s 4ms/step - loss: 83.1929 - accuracy: 0.1790\n",
            "Epoch 10/64\n",
            "32/32 [==============================] - 0s 4ms/step - loss: 84.1536 - accuracy: 0.1820\n",
            "Epoch 11/64\n",
            "32/32 [==============================] - 0s 4ms/step - loss: 86.1337 - accuracy: 0.1650\n",
            "Epoch 12/64\n",
            "32/32 [==============================] - 0s 4ms/step - loss: 84.5602 - accuracy: 0.1740\n",
            "Epoch 13/64\n",
            "32/32 [==============================] - 0s 4ms/step - loss: 83.0829 - accuracy: 0.1700\n",
            "Epoch 14/64\n",
            "32/32 [==============================] - 0s 4ms/step - loss: 84.7218 - accuracy: 0.1690\n",
            "Epoch 15/64\n",
            "32/32 [==============================] - 0s 4ms/step - loss: 81.1714 - accuracy: 0.1670\n",
            "Epoch 16/64\n",
            "32/32 [==============================] - 0s 3ms/step - loss: 80.4875 - accuracy: 0.1740\n",
            "Epoch 17/64\n",
            "32/32 [==============================] - 0s 3ms/step - loss: 79.1248 - accuracy: 0.1700\n",
            "Epoch 18/64\n",
            "32/32 [==============================] - 0s 3ms/step - loss: 76.9226 - accuracy: 0.1610\n",
            "Epoch 19/64\n",
            "32/32 [==============================] - 0s 3ms/step - loss: 74.9011 - accuracy: 0.1600\n",
            "Epoch 20/64\n",
            "32/32 [==============================] - 0s 3ms/step - loss: 70.3691 - accuracy: 0.1770\n",
            "Epoch 21/64\n",
            "32/32 [==============================] - 0s 3ms/step - loss: 65.4739 - accuracy: 0.1640\n",
            "Epoch 22/64\n",
            "32/32 [==============================] - 0s 3ms/step - loss: 60.1659 - accuracy: 0.1830\n",
            "Epoch 23/64\n",
            "32/32 [==============================] - 0s 3ms/step - loss: 52.9566 - accuracy: 0.1790\n",
            "Epoch 24/64\n",
            "32/32 [==============================] - 0s 3ms/step - loss: 45.8440 - accuracy: 0.2110\n",
            "Epoch 25/64\n",
            "32/32 [==============================] - 0s 3ms/step - loss: 37.4319 - accuracy: 0.2570\n",
            "Epoch 26/64\n",
            "32/32 [==============================] - 0s 3ms/step - loss: 30.5519 - accuracy: 0.2800\n",
            "Epoch 27/64\n",
            "32/32 [==============================] - 0s 3ms/step - loss: 24.5160 - accuracy: 0.3770\n",
            "Epoch 28/64\n",
            "32/32 [==============================] - 0s 3ms/step - loss: 18.4882 - accuracy: 0.4690\n",
            "Epoch 29/64\n",
            "32/32 [==============================] - 0s 3ms/step - loss: 13.2094 - accuracy: 0.5680\n",
            "Epoch 30/64\n",
            "32/32 [==============================] - 0s 3ms/step - loss: 10.3381 - accuracy: 0.6290\n",
            "Epoch 31/64\n",
            "32/32 [==============================] - 0s 3ms/step - loss: 8.3975 - accuracy: 0.6870\n",
            "Epoch 32/64\n",
            "32/32 [==============================] - 0s 3ms/step - loss: 6.6193 - accuracy: 0.7600\n",
            "Epoch 33/64\n",
            "32/32 [==============================] - 0s 3ms/step - loss: 5.0554 - accuracy: 0.8030\n",
            "Epoch 34/64\n",
            "32/32 [==============================] - 0s 3ms/step - loss: 4.7899 - accuracy: 0.8120\n",
            "Epoch 35/64\n",
            "32/32 [==============================] - 0s 3ms/step - loss: 3.5181 - accuracy: 0.8310\n",
            "Epoch 36/64\n",
            "32/32 [==============================] - 0s 3ms/step - loss: 4.0359 - accuracy: 0.8420\n",
            "Epoch 37/64\n",
            "32/32 [==============================] - 0s 3ms/step - loss: 3.3458 - accuracy: 0.8660\n",
            "Epoch 38/64\n",
            "32/32 [==============================] - 0s 3ms/step - loss: 3.5832 - accuracy: 0.8660\n",
            "Epoch 39/64\n",
            "32/32 [==============================] - 0s 3ms/step - loss: 3.4938 - accuracy: 0.8600\n",
            "Epoch 40/64\n",
            "32/32 [==============================] - 0s 3ms/step - loss: 3.4563 - accuracy: 0.8760\n",
            "Epoch 41/64\n",
            "32/32 [==============================] - 0s 3ms/step - loss: 3.2978 - accuracy: 0.8690\n",
            "Epoch 42/64\n",
            "32/32 [==============================] - 0s 2ms/step - loss: 3.9545 - accuracy: 0.8490\n",
            "Epoch 43/64\n",
            "32/32 [==============================] - 0s 3ms/step - loss: 12.5161 - accuracy: 0.7750\n",
            "Epoch 44/64\n",
            "32/32 [==============================] - 0s 3ms/step - loss: 12.6890 - accuracy: 0.7440\n",
            "Epoch 45/64\n",
            "32/32 [==============================] - 0s 3ms/step - loss: 11.6116 - accuracy: 0.6710\n",
            "Epoch 46/64\n",
            "32/32 [==============================] - 0s 3ms/step - loss: 7.7847 - accuracy: 0.6130\n",
            "Epoch 47/64\n",
            "32/32 [==============================] - 0s 3ms/step - loss: 3.0266 - accuracy: 0.3610\n",
            "Epoch 48/64\n",
            "32/32 [==============================] - 0s 3ms/step - loss: 2.4757 - accuracy: 0.2460\n",
            "Epoch 49/64\n",
            "32/32 [==============================] - 0s 3ms/step - loss: 2.6356 - accuracy: 0.1540\n",
            "Epoch 50/64\n",
            "32/32 [==============================] - 0s 3ms/step - loss: 2.3634 - accuracy: 0.1400\n",
            "Epoch 51/64\n",
            "32/32 [==============================] - 0s 3ms/step - loss: 2.2793 - accuracy: 0.0970\n",
            "Epoch 52/64\n",
            "32/32 [==============================] - 0s 3ms/step - loss: 2.2855 - accuracy: 0.0980\n",
            "Epoch 53/64\n",
            "32/32 [==============================] - 0s 3ms/step - loss: 2.2800 - accuracy: 0.1160\n",
            "Epoch 54/64\n",
            "32/32 [==============================] - 0s 3ms/step - loss: 2.2909 - accuracy: 0.0880\n",
            "Epoch 55/64\n",
            "32/32 [==============================] - 0s 3ms/step - loss: 2.2995 - accuracy: 0.1040\n",
            "Epoch 56/64\n",
            "32/32 [==============================] - 0s 3ms/step - loss: 2.3053 - accuracy: 0.1010\n",
            "Epoch 57/64\n",
            "32/32 [==============================] - 0s 3ms/step - loss: 2.3346 - accuracy: 0.1210\n",
            "Epoch 58/64\n",
            "32/32 [==============================] - 0s 3ms/step - loss: 2.3504 - accuracy: 0.1030\n",
            "Epoch 59/64\n",
            "32/32 [==============================] - 0s 3ms/step - loss: 2.3583 - accuracy: 0.0990\n",
            "Epoch 60/64\n",
            "32/32 [==============================] - 0s 3ms/step - loss: 2.3669 - accuracy: 0.0960\n",
            "Epoch 61/64\n",
            "32/32 [==============================] - 0s 3ms/step - loss: 2.4312 - accuracy: 0.1010\n",
            "Epoch 62/64\n",
            "32/32 [==============================] - 0s 3ms/step - loss: 2.4584 - accuracy: 0.1110\n",
            "Epoch 63/64\n",
            "32/32 [==============================] - 0s 3ms/step - loss: 2.9016 - accuracy: 0.1140\n",
            "Epoch 64/64\n",
            "32/32 [==============================] - 0s 3ms/step - loss: 3.1403 - accuracy: 0.0960\n"
          ]
        },
        {
          "output_type": "display_data",
          "data": {
            "text/plain": [
              "<Figure size 640x480 with 1 Axes>"
            ],
            "image/png": "[encoded data removed]"
          },
          "metadata": {}
        }
      ]
    },
    {
      "cell_type": "markdown",
      "source": [
        "بر مبنای  گراف بالا, مقدار لرنینگ ریت در شیب نزولی متاسب می باشد.\n",
        "best Lr = 1e-7 - 1e-5 bold text"
      ],
      "metadata": {
        "id": "OaMXMKgpAMCq"
      }
    },
    {
      "cell_type": "code",
      "source": [],
      "metadata": {
        "id": "iDH8Vhb8Ap4-"
      },
      "execution_count": null,
      "outputs": []
    }
  ]
}